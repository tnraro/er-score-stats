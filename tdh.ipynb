{
 "cells": [
  {
   "cell_type": "code",
   "execution_count": null,
   "id": "5f3d27f4-2cf9-4c52-9b9c-450288253850",
   "metadata": {
    "editable": true,
    "slideshow": {
     "slide_type": ""
    },
    "tags": []
   },
   "outputs": [],
   "source": [
    "import pandas as pd\n",
    "import plotly.express as px\n",
    "import plotly.graph_objects as go\n",
    "import numpy as np"
   ]
  },
  {
   "cell_type": "code",
   "execution_count": null,
   "id": "b9559dd6-819e-456e-ba56-28bfd19b6a23",
   "metadata": {},
   "outputs": [],
   "source": [
    "df = pd.read_csv('data/user_records_202503130422.csv')"
   ]
  },
  {
   "cell_type": "code",
   "execution_count": null,
   "id": "513fa141-5b0a-409a-aab6-20b4dd607a30",
   "metadata": {},
   "outputs": [],
   "source": [
    "df_filtered = df[\n",
    "    (df['mode'].isin([2, 3])) & \n",
    "    (df['play_time'] >= (15*60)) & \n",
    "    (df['play_time'] <= (1350)) &\n",
    "    (df['rp'] >= 5000)\n",
    "]\n",
    "\n",
    "df_standardized = pd.DataFrame({\n",
    "    'damage_dealt_per_min': df_filtered['damage_dealt_to_players'] / (df_filtered['play_time'] / 60),\n",
    "    'damage_taken_per_min': df_filtered['damage_taken_from_players'] / (df_filtered['play_time'] / 60),\n",
    "    'healing_per_min': df_filtered['healing_amount'] / (df_filtered['play_time'] / 60)\n",
    "})\n",
    "\n",
    "df_sampled = df_standardized.sample(frac=0.2, random_state=42)\n",
    "\n",
    "print(\"샘플링된 데이터:\")\n",
    "print(df_sampled.head())\n",
    "print(f\"원본 데이터 크기: {len(df_filtered)}, 샘플링된 데이터 크기: {len(df_sampled)} ({round(len(df_sampled)/len(df_filtered)*100)}%)\")\n",
    "\n",
    "print(\"\\n기본 통계:\")\n",
    "print(df_sampled.describe())"
   ]
  },
  {
   "cell_type": "code",
   "execution_count": null,
   "id": "97da9d97-743d-4293-b6f8-ccd897e2aca7",
   "metadata": {},
   "outputs": [],
   "source": [
    "fig = px.scatter_3d(\n",
    "    df_sampled, \n",
    "    x='damage_dealt_per_min',\n",
    "    y='damage_taken_per_min',\n",
    "    z='healing_per_min',\n",
    "    title=f'딜탱힐 3D 시각화 ({round(len(df_sampled)/len(df_filtered)*100)}%)',\n",
    "    labels={\n",
    "        'damage_dealt_per_min': '가한 피해량',\n",
    "        'damage_taken_per_min': '받은 피해량',\n",
    "        'healing_per_min': '힐량'\n",
    "    }\n",
    ")\n"
   ]
  },
  {
   "cell_type": "code",
   "execution_count": null,
   "id": "a73d1df6-e643-41a8-ab52-eb9870c89a04",
   "metadata": {},
   "outputs": [],
   "source": [
    "fig.update_traces(marker=dict(size=2))\n",
    "\n",
    "fig.update_layout(\n",
    "    scene=dict(\n",
    "        xaxis_title='분당 가한 피해량',\n",
    "        yaxis_title='분당 받은 피해량',\n",
    "        zaxis_title='분당 힐량',\n",
    "    ),\n",
    "    width=900,\n",
    "    height=700,\n",
    "    margin=dict(l=0, r=0, b=0, t=30)\n",
    ")\n",
    "\n",
    "fig.show()"
   ]
  }
 ],
 "metadata": {
  "kernelspec": {
   "display_name": "Python 3 (ipykernel)",
   "language": "python",
   "name": "python3"
  },
  "language_info": {
   "codemirror_mode": {
    "name": "ipython",
    "version": 3
   },
   "file_extension": ".py",
   "mimetype": "text/x-python",
   "name": "python",
   "nbconvert_exporter": "python",
   "pygments_lexer": "ipython3",
   "version": "3.13.2"
  }
 },
 "nbformat": 4,
 "nbformat_minor": 5
}
