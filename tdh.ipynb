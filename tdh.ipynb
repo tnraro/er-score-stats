{
 "cells": [
  {
   "cell_type": "code",
   "execution_count": null,
   "id": "5f3d27f4-2cf9-4c52-9b9c-450288253850",
   "metadata": {
    "editable": true,
    "slideshow": {
     "slide_type": ""
    },
    "tags": []
   },
   "outputs": [],
   "source": [
    "import pandas as pd\n",
    "import plotly.express as px\n",
    "import plotly.graph_objects as go\n",
    "from plotly.subplots import make_subplots\n",
    "import numpy as np"
   ]
  },
  {
   "cell_type": "code",
   "execution_count": null,
   "id": "b9559dd6-819e-456e-ba56-28bfd19b6a23",
   "metadata": {},
   "outputs": [],
   "source": [
    "df = pd.read_csv('data/user_records_202503130422.csv')"
   ]
  },
  {
   "cell_type": "code",
   "execution_count": null,
   "id": "7fef0dc7-4eef-4ab2-9c09-b2af90ee6655",
   "metadata": {},
   "outputs": [],
   "source": [
    "character_name_map = {0:\"무작위\",1:\"재키\",2:\"아야\",3:\"피오라\",4:\"매그너스\",5:\"자히르\",6:\"나딘\",7:\"현우\",8:\"하트\",9:\"아이솔\",10:\"리 다이린\",11:\"유키\",12:\"혜진\",13:\"쇼우\",14:\"키아라\",15:\"시셀라\",16:\"실비아\",17:\"아드리아나\",18:\"쇼이치\",19:\"엠마\",20:\"레녹스\",21:\"로지\",22:\"루크\",23:\"캐시\",24:\"아델라\",25:\"버니스\",26:\"바바라\",27:\"알렉스\",28:\"수아\",29:\"레온\",30:\"일레븐\",31:\"리오\",32:\"윌리엄\",33:\"니키\",34:\"나타폰\",35:\"얀\",36:\"이바\",37:\"다니엘\",38:\"제니\",39:\"카밀로\",40:\"클로에\",41:\"요한\",42:\"비앙카\",43:\"셀린\",44:\"에키온\",45:\"마이\",46:\"에이든\",47:\"라우라\",48:\"띠아\",49:\"펠릭스\",50:\"엘레나\",51:\"프리야\",52:\"아디나\",53:\"마커스\",54:\"칼라\",55:\"에스텔\",56:\"피올로\",57:\"마르티나\",58:\"헤이즈\",59:\"아이작\",60:\"타지아\",61:\"이렘\",62:\"테오도르\",63:\"이안\",64:\"바냐\",65:\"데비&마를렌\",66:\"아르다\",67:\"아비게일\",68:\"알론소\",69:\"레니\",70:\"츠바메\",71:\"케네스\",72:\"카티야\",73:\"샬럿\",74:\"다르코\",75:\"르노어\",76:\"가넷\",77:\"유민\",78:\"히스이\",79:\"유스티나\",9999:\"나쟈\"}"
   ]
  },
  {
   "cell_type": "code",
   "execution_count": null,
   "id": "513fa141-5b0a-409a-aab6-20b4dd607a30",
   "metadata": {},
   "outputs": [],
   "source": [
    "character_id = 73\n",
    "\n",
    "df_filtered = df[\n",
    "#    (df['character_id'] == character_id) &\n",
    "    (df['mode'].isin([2, 3])) & \n",
    "    (df['play_time'] >= (15*60)) & \n",
    "    (df['play_time'] <= (1350)) &\n",
    "    (df['rp'] >= 5000)\n",
    "]\n",
    "\n",
    "df_standardized = pd.DataFrame({\n",
    "    'damage_dealt_per_min': df_filtered['damage_dealt_to_players'] / (df_filtered['play_time'] / 60),\n",
    "    'damage_taken_per_min': df_filtered['damage_taken_from_players'] / (df_filtered['play_time'] / 60),\n",
    "    'healing_per_min': df_filtered['healing_amount'] / (df_filtered['play_time'] / 60),\n",
    "    'weapon_id': np.where(df_filtered['character_id'] == character_id, 1, 0)\n",
    "})\n",
    "\n",
    "df_sampled = df_standardized.sample(frac=0.01, random_state=42)\n",
    "df_sampled = df_sampled.sort_values(by='weapon_id', ascending=True)\n",
    "\n",
    "print(\"샘플링된 데이터:\")\n",
    "print(df_sampled.head())\n",
    "print(f\"원본 데이터 크기: {len(df_filtered)}, 샘플링된 데이터 크기: {len(df_sampled)} ({round(len(df_sampled)/len(df_filtered)*100)}%)\")\n",
    "\n",
    "print(\"\\n기본 통계:\")\n",
    "print(df_sampled.describe())"
   ]
  },
  {
   "cell_type": "code",
   "execution_count": null,
   "id": "97da9d97-743d-4293-b6f8-ccd897e2aca7",
   "metadata": {},
   "outputs": [],
   "source": [
    "fig = make_subplots(rows=1, cols=3, subplot_titles=[\"딜탱\", \"딜힐\", \"탱힐\"])\n",
    "\n",
    "# X-Y 그래프\n",
    "fig.add_trace(\n",
    "    go.Scatter(\n",
    "        x=df_sampled['damage_dealt_per_min'],\n",
    "        y=df_sampled['damage_taken_per_min'],\n",
    "        mode='markers',\n",
    "        marker=dict(size=6, opacity=0.5, color=df_sampled['weapon_id'], colorscale='inferno'),  # 색상을 weapon_id 기준으로\n",
    "        name=\"딜탱\",\n",
    "        showlegend=False\n",
    "    ),\n",
    "    row=1, col=1\n",
    ")\n",
    "\n",
    "# X-Z 그래프\n",
    "fig.add_trace(\n",
    "    go.Scatter(\n",
    "        x=df_sampled['damage_dealt_per_min'],\n",
    "        y=df_sampled['healing_per_min'],\n",
    "        mode='markers',\n",
    "        marker=dict(size=6, opacity=0.5, color=df_sampled['weapon_id'], colorscale='inferno'),\n",
    "        name=\"딜힐\",\n",
    "        showlegend=False\n",
    "    ),\n",
    "    row=1, col=2\n",
    ")\n",
    "\n",
    "# Y-Z 그래프\n",
    "fig.add_trace(\n",
    "    go.Scatter(\n",
    "        x=df_sampled['damage_taken_per_min'],\n",
    "        y=df_sampled['healing_per_min'],\n",
    "        mode='markers',\n",
    "        marker=dict(size=6, opacity=0.5, color=df_sampled['weapon_id'], colorscale='inferno', showscale=True),\n",
    "        name=\"탱힐\",\n",
    "        showlegend=False\n",
    "    ),\n",
    "    row=1, col=3\n",
    ")\n",
    "\n",
    "\n",
    "fig.update_xaxes(range=[0, 3000], row=1, col=1)\n",
    "fig.update_yaxes(range=[0, 3000], row=1, col=1)\n",
    "\n",
    "fig.update_xaxes(range=[0, 3000], row=1, col=2)\n",
    "fig.update_yaxes(range=[0, 3000], row=1, col=2)\n",
    "\n",
    "fig.update_xaxes(range=[0, 3000], row=1, col=3)\n",
    "fig.update_yaxes(range=[0, 3000], row=1, col=3)\n",
    "\n",
    "# 레이아웃 설정\n",
    "fig.update_layout(\n",
    "    height=400, width=900,  # 그래프 크기 조정\n",
    "    title_text=f'{character_name_map[character_id]} 딜탱힐 시각화 ({round(len(df_sampled)/len(df_filtered)*100)}%)'\n",
    ")\n",
    "# 그래프 표시\n",
    "fig.show()"
   ]
  },
  {
   "cell_type": "code",
   "execution_count": null,
   "id": "627ad7f2-d0b6-4761-aa36-31cf34c99313",
   "metadata": {},
   "outputs": [],
   "source": []
  }
 ],
 "metadata": {
  "kernelspec": {
   "display_name": "Python 3 (ipykernel)",
   "language": "python",
   "name": "python3"
  },
  "language_info": {
   "codemirror_mode": {
    "name": "ipython",
    "version": 3
   },
   "file_extension": ".py",
   "mimetype": "text/x-python",
   "name": "python",
   "nbconvert_exporter": "python",
   "pygments_lexer": "ipython3",
   "version": "3.13.2"
  }
 },
 "nbformat": 4,
 "nbformat_minor": 5
}
